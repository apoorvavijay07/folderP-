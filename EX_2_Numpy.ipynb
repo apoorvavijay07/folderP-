{
  "nbformat": 4,
  "nbformat_minor": 0,
  "metadata": {
    "colab": {
      "provenance": [],
      "authorship_tag": "ABX9TyMGQROvflabgK2XbaPlklMe"
    },
    "kernelspec": {
      "name": "python3",
      "display_name": "Python 3"
    },
    "language_info": {
      "name": "python"
    }
  },
  "cells": [
    {
      "cell_type": "markdown",
      "source": [
        "1)create a array"
      ],
      "metadata": {
        "id": "QT0JVGgvr398"
      }
    },
    {
      "cell_type": "code",
      "source": [
        "import numpy as np\n",
        "arr= np.array([1,2,3,4,5])\n",
        "print(arr)\n",
        "print (type(arr))"
      ],
      "metadata": {
        "colab": {
          "base_uri": "https://localhost:8080/"
        },
        "id": "96fJaGzXr6Rk",
        "outputId": "4b607486-fdf5-4fd6-c732-24b642fa613a"
      },
      "execution_count": null,
      "outputs": [
        {
          "output_type": "stream",
          "name": "stdout",
          "text": [
            "[1 2 3 4 5]\n",
            "<class 'numpy.ndarray'>\n"
          ]
        }
      ]
    },
    {
      "cell_type": "markdown",
      "source": [
        "2) check numpy version"
      ],
      "metadata": {
        "id": "Xnpg4w-Bsa60"
      }
    },
    {
      "cell_type": "code",
      "source": [
        "import numpy as np\n",
        "\n",
        "print(np.__version__)\n"
      ],
      "metadata": {
        "colab": {
          "base_uri": "https://localhost:8080/"
        },
        "id": "TZL6jywjsdV8",
        "outputId": "674774bb-ac7f-4a45-e6c7-832383be490e"
      },
      "execution_count": null,
      "outputs": [
        {
          "output_type": "stream",
          "name": "stdout",
          "text": [
            "1.22.4\n"
          ]
        }
      ]
    },
    {
      "cell_type": "markdown",
      "source": [
        "3) using tuple to create numpy array"
      ],
      "metadata": {
        "id": "eWyULjcfutRm"
      }
    },
    {
      "cell_type": "code",
      "source": [
        "import numpy as np\n",
        "tuple= (1,2,3,4,5)\n",
        "print(tuple)"
      ],
      "metadata": {
        "colab": {
          "base_uri": "https://localhost:8080/"
        },
        "id": "rJBDnzVPu22l",
        "outputId": "c791a901-4e28-498e-c8cb-236019641adb"
      },
      "execution_count": null,
      "outputs": [
        {
          "output_type": "stream",
          "name": "stdout",
          "text": [
            "(1, 2, 3, 4, 5)\n"
          ]
        }
      ]
    },
    {
      "cell_type": "markdown",
      "source": [
        "4) 0-D array"
      ],
      "metadata": {
        "id": "hAW069XEwgvM"
      }
    },
    {
      "cell_type": "code",
      "source": [
        "import numpy as np\n",
        "arr= np.array(42)\n",
        "print(arr)\n",
        "print(arr.ndim)"
      ],
      "metadata": {
        "colab": {
          "base_uri": "https://localhost:8080/"
        },
        "id": "FZHu424Hwnbl",
        "outputId": "4644da2f-66cb-4fa0-8943-ed8019314283"
      },
      "execution_count": null,
      "outputs": [
        {
          "output_type": "stream",
          "name": "stdout",
          "text": [
            "42\n",
            "0\n"
          ]
        }
      ]
    },
    {
      "cell_type": "markdown",
      "source": [
        "5) 1-D array"
      ],
      "metadata": {
        "id": "BpSTWPO_wx-c"
      }
    },
    {
      "cell_type": "code",
      "source": [
        "import numpy as np\n",
        "arr=np.array([1,2,3,4])\n",
        "print(arr)"
      ],
      "metadata": {
        "colab": {
          "base_uri": "https://localhost:8080/"
        },
        "id": "kh28p_uGw399",
        "outputId": "fdf8718e-aff8-4872-bb46-0bc2505f2c5d"
      },
      "execution_count": null,
      "outputs": [
        {
          "output_type": "stream",
          "name": "stdout",
          "text": [
            "[1 2 3 4]\n"
          ]
        }
      ]
    },
    {
      "cell_type": "markdown",
      "source": [
        "6) 2-D array"
      ],
      "metadata": {
        "id": "hQsGZn6pxW9c"
      }
    },
    {
      "cell_type": "code",
      "source": [
        "import numpy as np\n",
        "arr= np.array([[1,2,3],[4,5,6]])\n",
        "print(arr)"
      ],
      "metadata": {
        "colab": {
          "base_uri": "https://localhost:8080/"
        },
        "id": "obrrdw0CxIIs",
        "outputId": "5a8d407f-d5f2-42d9-86f2-cc5bf58996e0"
      },
      "execution_count": null,
      "outputs": [
        {
          "output_type": "stream",
          "name": "stdout",
          "text": [
            "[[1 2 3]\n",
            " [4 5 6]]\n"
          ]
        }
      ]
    },
    {
      "cell_type": "markdown",
      "source": [
        "7) 3-D array\n",
        "   "
      ],
      "metadata": {
        "id": "2EqafSHAxlwt"
      }
    },
    {
      "cell_type": "code",
      "source": [
        "import numpy as np\n",
        "arr= np.array([[[1,2,3],[4,5,6]],[[7,8,9],[10,11,12]]])\n",
        "print(arr)"
      ],
      "metadata": {
        "colab": {
          "base_uri": "https://localhost:8080/"
        },
        "id": "85NLy5d4xrG9",
        "outputId": "3061114a-cdaa-4c3b-cc87-dc710b18c730"
      },
      "execution_count": null,
      "outputs": [
        {
          "output_type": "stream",
          "name": "stdout",
          "text": [
            "[[[ 1  2  3]\n",
            "  [ 4  5  6]]\n",
            "\n",
            " [[ 7  8  9]\n",
            "  [10 11 12]]]\n"
          ]
        }
      ]
    },
    {
      "cell_type": "markdown",
      "source": [
        "8) checking dimensions values"
      ],
      "metadata": {
        "id": "Inxo0H9V2eTU"
      }
    },
    {
      "cell_type": "code",
      "source": [
        "import numpy as np\n",
        "a=np.array(42)\n",
        "b=np.array([1,2,3,4])\n",
        "c=np.array([[1,2,3],[4,5,6]])\n",
        "d=np.array([[[1,2,3],[4,5,6]],[[7,8,9],[10,11,12]]])\n",
        "print(a.ndim)\n",
        "print(b.ndim)\n",
        "print(c.ndim)\n",
        "print(d.ndim)"
      ],
      "metadata": {
        "colab": {
          "base_uri": "https://localhost:8080/"
        },
        "id": "JDm8hnPI2iyz",
        "outputId": "604cd169-46d4-41e2-8386-22c820a1c2ab"
      },
      "execution_count": null,
      "outputs": [
        {
          "output_type": "stream",
          "name": "stdout",
          "text": [
            "0\n",
            "1\n",
            "2\n",
            "3\n"
          ]
        }
      ]
    },
    {
      "cell_type": "markdown",
      "source": [
        "8.a) RECHECKING DIMENTIONS"
      ],
      "metadata": {
        "id": "7e0oqju23PuM"
      }
    },
    {
      "cell_type": "code",
      "source": [
        "import numpy as np\n",
        "a=np.array(42)\n",
        "b=np.array([1,2,3,4])\n",
        "c=np.array([[1,2,3],[4,5,6]])\n",
        "d=np.array([[[1,2,3],[4,5,6]],[[7,8,9],[10,11,12]]])\n",
        "print(a.ndim)\n",
        "print(b.ndim)\n",
        "print(d.ndim)\n",
        "print(c.ndim)"
      ],
      "metadata": {
        "colab": {
          "base_uri": "https://localhost:8080/"
        },
        "id": "xhjDe2sW3VX1",
        "outputId": "c75b421a-9f86-404b-ecd4-c59bff9a59c0"
      },
      "execution_count": null,
      "outputs": [
        {
          "output_type": "stream",
          "name": "stdout",
          "text": [
            "0\n",
            "1\n",
            "3\n",
            "2\n"
          ]
        }
      ]
    },
    {
      "cell_type": "markdown",
      "source": [
        "9) getting firsan element from array"
      ],
      "metadata": {
        "id": "wU9cg2u0bf7l"
      }
    },
    {
      "cell_type": "code",
      "source": [
        "import numpy as aww\n",
        "aww=aww.array([1,2,3,4])\n",
        "print(aww[0])"
      ],
      "metadata": {
        "colab": {
          "base_uri": "https://localhost:8080/"
        },
        "id": "Mb5hd99qdpVc",
        "outputId": "e479f9d7-15a0-4f4d-b312-6735dacda4c8"
      },
      "execution_count": null,
      "outputs": [
        {
          "output_type": "stream",
          "name": "stdout",
          "text": [
            "1\n"
          ]
        }
      ]
    },
    {
      "cell_type": "markdown",
      "source": [
        "10)adding elements from array"
      ],
      "metadata": {
        "id": "p0FyxkjreMJc"
      }
    },
    {
      "cell_type": "code",
      "source": [
        "import numpy as q\n",
        "arr=q.array([1,2,3,4])\n",
        "print([arr])\n",
        "print(arr[0])\n",
        "print(arr[1])\n",
        "print(arr[0]+arr[1])"
      ],
      "metadata": {
        "colab": {
          "base_uri": "https://localhost:8080/"
        },
        "id": "ERpwdc3Eeg2z",
        "outputId": "222e1638-9408-4d9c-a8f8-2c3f6d019ee6"
      },
      "execution_count": null,
      "outputs": [
        {
          "output_type": "stream",
          "name": "stdout",
          "text": [
            "[array([1, 2, 3, 4])]\n",
            "1\n",
            "2\n",
            "3\n"
          ]
        }
      ]
    },
    {
      "cell_type": "markdown",
      "source": [
        "11) ACCESS 2-D ARRAY"
      ],
      "metadata": {
        "id": "7P3Y_o4CfRAb"
      }
    },
    {
      "cell_type": "markdown",
      "source": [
        "11.1)  access element on first row second column"
      ],
      "metadata": {
        "id": "UZF78ilGfcQb"
      }
    },
    {
      "cell_type": "code",
      "source": [
        "import numpy as np\n",
        "a=np.array([[1,2,3,4,5],[6,7,8,9,10]])\n",
        "print('second element on first row',a[0,1])"
      ],
      "metadata": {
        "colab": {
          "base_uri": "https://localhost:8080/"
        },
        "id": "fDeea_uxftfa",
        "outputId": "5bea49c3-883b-425a-cb9d-4e7eb099a52f"
      },
      "execution_count": null,
      "outputs": [
        {
          "output_type": "stream",
          "name": "stdout",
          "text": [
            "second element on first row 2\n"
          ]
        }
      ]
    },
    {
      "cell_type": "markdown",
      "source": [
        "11.2)  access element on 2nd row,5th column"
      ],
      "metadata": {
        "id": "jVodRjF4hCsj"
      }
    },
    {
      "cell_type": "code",
      "source": [
        "import numpy as aw\n",
        "a=aw.array([[1,2,3,4,5],[6,7,8,9,10]])\n",
        "print ('element on 2nd row,5th column is:',a[1,4] )"
      ],
      "metadata": {
        "colab": {
          "base_uri": "https://localhost:8080/"
        },
        "id": "ap2ekkVPhRsC",
        "outputId": "2be03020-3245-4718-f617-b95422ca0a30"
      },
      "execution_count": null,
      "outputs": [
        {
          "output_type": "stream",
          "name": "stdout",
          "text": [
            "element on 2nd row,5th column is: 10\n"
          ]
        }
      ]
    },
    {
      "cell_type": "markdown",
      "source": [
        "12) accessing 3rd element in 2nd array in 1st array in 3-D ARRAY"
      ],
      "metadata": {
        "id": "88QbglD4h9US"
      }
    },
    {
      "cell_type": "code",
      "source": [
        "import numpy as aw\n",
        "a=aw.array([[[1,2,3],[4,5,6]],[[7,8,9],[10,11,12]]])\n",
        "print ('3rd element in 2nd array in 1st array is :',a[0,1,2])"
      ],
      "metadata": {
        "colab": {
          "base_uri": "https://localhost:8080/"
        },
        "id": "R5_2tKWpikfS",
        "outputId": "e1a44cba-bcb6-4b79-bb05-c34cc37f57ee"
      },
      "execution_count": null,
      "outputs": [
        {
          "output_type": "stream",
          "name": "stdout",
          "text": [
            "3rd element in 2nd array in 1st array is : 6\n"
          ]
        }
      ]
    },
    {
      "cell_type": "markdown",
      "source": [
        "13) array silicing"
      ],
      "metadata": {
        "id": "Fb9sdGzujkkj"
      }
    },
    {
      "cell_type": "code",
      "source": [
        "import numpy as np\n",
        "arr=np.array([1,2,3,4,5,6,7,8,9,10])\n",
        "print(arr[1:5])"
      ],
      "metadata": {
        "colab": {
          "base_uri": "https://localhost:8080/"
        },
        "id": "IZC3MxprkGJp",
        "outputId": "0f173c84-cddb-4ad7-98f2-5314f0e9d5ba"
      },
      "execution_count": null,
      "outputs": [
        {
          "output_type": "stream",
          "name": "stdout",
          "text": [
            "[2 3 4 5]\n"
          ]
        }
      ]
    },
    {
      "cell_type": "markdown",
      "source": [
        "14) silicing from beginning and using step"
      ],
      "metadata": {
        "id": "O8V95GBjkzTy"
      }
    },
    {
      "cell_type": "code",
      "source": [
        "import numpy as np\n",
        "arr=np.array([1,2,3,4,5,6,7,8,9,10])\n",
        "print(arr[1:8:2])"
      ],
      "metadata": {
        "colab": {
          "base_uri": "https://localhost:8080/"
        },
        "id": "rfMm20aek6uq",
        "outputId": "8aec9ea3-4f4f-41bc-8675-47a7e9265fe3"
      },
      "execution_count": null,
      "outputs": [
        {
          "output_type": "stream",
          "name": "stdout",
          "text": [
            "[2 4 6 8]\n"
          ]
        }
      ]
    },
    {
      "cell_type": "markdown",
      "source": [
        "15) silicing in 2-D ARRAY"
      ],
      "metadata": {
        "id": "Tn4goXoCld_C"
      }
    },
    {
      "cell_type": "code",
      "source": [
        "import numpy as np\n",
        "ar=np.array([[1,2,3,4],[5,6,7,8]])\n",
        "print(ar[0:2,1:3])"
      ],
      "metadata": {
        "id": "gOAaeiyIl1SS",
        "colab": {
          "base_uri": "https://localhost:8080/"
        },
        "outputId": "36454b92-a04b-428d-9f5f-815d972cb66c"
      },
      "execution_count": null,
      "outputs": [
        {
          "output_type": "stream",
          "name": "stdout",
          "text": [
            "[[2 3]\n",
            " [6 7]]\n"
          ]
        }
      ]
    },
    {
      "cell_type": "markdown",
      "source": [
        "**16) silicing two arrays in 2-D ARRAY:** italicized text"
      ],
      "metadata": {
        "id": "tbx77pRn1VTB"
      }
    },
    {
      "cell_type": "code",
      "source": [
        "import numpy as np\n",
        "ar=np.array([[1,2,3,4,5],[6,7,8,9,10]])\n",
        "print(ar[0:2,1:4])"
      ],
      "metadata": {
        "colab": {
          "base_uri": "https://localhost:8080/"
        },
        "id": "90TA4jTe1gBp",
        "outputId": "2207b8d0-f718-465a-9b9e-b6de0cb30b57"
      },
      "execution_count": null,
      "outputs": [
        {
          "output_type": "stream",
          "name": "stdout",
          "text": [
            "[[2 3 4]\n",
            " [7 8 9]]\n"
          ]
        }
      ]
    },
    {
      "cell_type": "markdown",
      "source": [
        "Checking Data type of ARRAY in numpy"
      ],
      "metadata": {
        "id": "AGGzMS-c-P4I"
      }
    },
    {
      "cell_type": "markdown",
      "source": [
        "17)checking integer data type"
      ],
      "metadata": {
        "id": "zFS1M2Lu-0ma"
      }
    },
    {
      "cell_type": "code",
      "source": [
        "import numpy as np\n",
        "x= np.array([1,2,3,4])\n",
        "print(x.dtype)"
      ],
      "metadata": {
        "colab": {
          "base_uri": "https://localhost:8080/"
        },
        "id": "0CHaId45_Gn_",
        "outputId": "810077db-3179-4ab7-b223-bce16e86dd82"
      },
      "execution_count": null,
      "outputs": [
        {
          "output_type": "stream",
          "name": "stdout",
          "text": [
            "int64\n"
          ]
        }
      ]
    },
    {
      "cell_type": "markdown",
      "source": [
        "18) checking float type"
      ],
      "metadata": {
        "id": "-TrElseNA4EG"
      }
    },
    {
      "cell_type": "code",
      "source": [
        "import numpy as np\n",
        "x= np.array([1.1,2.23,3,4])\n",
        "print(x.dtype)"
      ],
      "metadata": {
        "colab": {
          "base_uri": "https://localhost:8080/"
        },
        "id": "lnIeaHM4A9cP",
        "outputId": "32c730d0-dfb1-47fd-b0b2-b59813d24a96"
      },
      "execution_count": null,
      "outputs": [
        {
          "output_type": "stream",
          "name": "stdout",
          "text": [
            "float64\n"
          ]
        }
      ]
    },
    {
      "cell_type": "markdown",
      "source": [
        "19) checking string type\n"
      ],
      "metadata": {
        "id": "zMXK4zPM_iog"
      }
    },
    {
      "cell_type": "code",
      "source": [
        "import numpy as np\n",
        "x= np.array(['a','d','gdsdfd','j'])\n",
        "print(x.dtype)"
      ],
      "metadata": {
        "colab": {
          "base_uri": "https://localhost:8080/"
        },
        "id": "UEQFJOLv_oz3",
        "outputId": "0aa4d253-8dbe-48d2-bcce-5b5ea093a684"
      },
      "execution_count": null,
      "outputs": [
        {
          "output_type": "stream",
          "name": "stdout",
          "text": [
            "<U6\n"
          ]
        }
      ]
    },
    {
      "cell_type": "code",
      "source": [
        "import numpy as np\n",
        "x= np.array(['a','d','gds','j'])\n",
        "print(x.dtype)"
      ],
      "metadata": {
        "colab": {
          "base_uri": "https://localhost:8080/"
        },
        "id": "pG2cGk4nAZNA",
        "outputId": "90ca12ef-c79b-44e8-c447-3ecaa31e7aee"
      },
      "execution_count": null,
      "outputs": [
        {
          "output_type": "stream",
          "name": "stdout",
          "text": [
            "<U3\n"
          ]
        }
      ]
    },
    {
      "cell_type": "code",
      "source": [
        "import numpy as np\n",
        "arr= np.array([5,'banana',5.5])\n",
        "print(arr.dtype)"
      ],
      "metadata": {
        "colab": {
          "base_uri": "https://localhost:8080/"
        },
        "id": "dWbJVqbWAfnH",
        "outputId": "8feea353-4d3e-4797-e12b-b5e666d03387"
      },
      "execution_count": null,
      "outputs": [
        {
          "output_type": "stream",
          "name": "stdout",
          "text": [
            "<U32\n"
          ]
        }
      ]
    },
    {
      "cell_type": "markdown",
      "source": [
        "**20) converting data type**"
      ],
      "metadata": {
        "id": "dcWsHi9gAqIP"
      }
    },
    {
      "cell_type": "code",
      "source": [
        "import numpy as np\n",
        "ar= np.array([1.1,2.1,3.1])\n",
        "print(ar)\n",
        "print(ar.dtype)\n",
        "newar=ar.astype('i')\n",
        "print(newar)\n",
        "print(newar.dtype)"
      ],
      "metadata": {
        "colab": {
          "base_uri": "https://localhost:8080/"
        },
        "id": "-GZhz8AYAwVA",
        "outputId": "88bdc8ac-d8fa-42ea-f5cc-b27b870f36de"
      },
      "execution_count": null,
      "outputs": [
        {
          "output_type": "stream",
          "name": "stdout",
          "text": [
            "[1.1 2.1 3.1]\n",
            "float64\n",
            "[1 2 3]\n",
            "int32\n"
          ]
        }
      ]
    },
    {
      "cell_type": "code",
      "source": [
        "import numpy as np\n",
        "ar= np.array([1,2,3,7])\n",
        "newar=ar.astype('f')\n",
        "print(ar)\n",
        "print(ar.dtype)\n",
        "\n",
        "print(newar)\n",
        "print(newar.dtype)"
      ],
      "metadata": {
        "colab": {
          "base_uri": "https://localhost:8080/"
        },
        "id": "hkrta38RCf4Q",
        "outputId": "e68059df-7d18-493f-8141-749030b6edbe"
      },
      "execution_count": null,
      "outputs": [
        {
          "output_type": "stream",
          "name": "stdout",
          "text": [
            "[1 2 3 7]\n",
            "int64\n",
            "[1. 2. 3. 7.]\n",
            "float32\n"
          ]
        }
      ]
    },
    {
      "cell_type": "code",
      "source": [
        "import numpy as np\n",
        "ar= np.array([1.1,2.1,3.1])\n",
        "print(ar)\n",
        "print(ar.dtype)\n",
        "newar=ar.astype('i')\n",
        "print(newar)\n",
        "print(newar.dtype)"
      ],
      "metadata": {
        "colab": {
          "base_uri": "https://localhost:8080/"
        },
        "id": "sEfETQXdCAJB",
        "outputId": "4b4ed339-76b9-449f-a7d2-501bfc10cbbf"
      },
      "execution_count": null,
      "outputs": [
        {
          "output_type": "stream",
          "name": "stdout",
          "text": [
            "[1.1 2.1 3.1]\n",
            "float64\n",
            "[1 2 3]\n",
            "int32\n"
          ]
        }
      ]
    },
    {
      "cell_type": "code",
      "source": [
        "import numpy as np\n",
        "ar= np.array([1,2,3,0])\n",
        "print(ar)\n",
        "print(ar.dtype)\n",
        "newar=ar.astype('bool')\n",
        "print(newar)\n",
        "print(newar.dtype)"
      ],
      "metadata": {
        "colab": {
          "base_uri": "https://localhost:8080/"
        },
        "id": "TToj-HHrDpS2",
        "outputId": "5feb747a-6c0c-4069-ba11-76ef979060d5"
      },
      "execution_count": null,
      "outputs": [
        {
          "output_type": "stream",
          "name": "stdout",
          "text": [
            "[1 2 3 0]\n",
            "int64\n",
            "[ True  True  True False]\n",
            "bool\n"
          ]
        }
      ]
    },
    {
      "cell_type": "markdown",
      "source": [
        "21) Program for copy ,change the original array and display both arrays:"
      ],
      "metadata": {
        "id": "7Cw_kLHyGRbn"
      }
    },
    {
      "cell_type": "code",
      "source": [
        "import numpy as np\n",
        "arr=np.array([1,2,3,4,5])\n",
        "x=arr.copy()\n",
        "arr[0]=0\n",
        "\n",
        "print(arr)\n",
        "print(x)"
      ],
      "metadata": {
        "colab": {
          "base_uri": "https://localhost:8080/"
        },
        "id": "OoStOg9rbN-m",
        "outputId": "b313e331-1a11-4f9a-9568-6d8d15937dae"
      },
      "execution_count": null,
      "outputs": [
        {
          "output_type": "stream",
          "name": "stdout",
          "text": [
            "[0 2 3 4 5]\n",
            "[1 2 3 4 5]\n"
          ]
        }
      ]
    },
    {
      "cell_type": "code",
      "source": [
        "import numpy as np\n",
        "arr=np.array([1,2,3,4,5])\n",
        "\n",
        "arr[0]=0\n",
        "x=arr.copy()\n",
        "print(arr)\n",
        "print(x)"
      ],
      "metadata": {
        "colab": {
          "base_uri": "https://localhost:8080/"
        },
        "id": "Pa3MKxE2by8N",
        "outputId": "33390a91-e30b-4cbb-f1ec-018f3bd5a846"
      },
      "execution_count": null,
      "outputs": [
        {
          "output_type": "stream",
          "name": "stdout",
          "text": [
            "[0 2 3 4 5]\n",
            "[0 2 3 4 5]\n"
          ]
        }
      ]
    },
    {
      "cell_type": "markdown",
      "source": [
        "22) program to view an array,change original and display both"
      ],
      "metadata": {
        "id": "b2WDqqNScEEV"
      }
    },
    {
      "cell_type": "code",
      "source": [
        "import numpy as np\n",
        "arr= np.array([1,2,3,4,5])\n",
        "arr[0]=0\n",
        "x=arr.view()\n",
        "\n",
        "print(arr)\n",
        "print(x)"
      ],
      "metadata": {
        "colab": {
          "base_uri": "https://localhost:8080/"
        },
        "id": "7dQptJercG-e",
        "outputId": "a9878a76-7a62-4533-eeb9-299322221537"
      },
      "execution_count": null,
      "outputs": [
        {
          "output_type": "stream",
          "name": "stdout",
          "text": [
            "[0 2 3 4 5]\n",
            "[0 2 3 4 5]\n"
          ]
        }
      ]
    },
    {
      "cell_type": "code",
      "source": [
        "import numpy as np\n",
        "arr= np.array([1,2,3,4,5])\n",
        "arr[0]=0\n",
        "x=arr.view()\n",
        "print(arr)\n",
        "print(x)\n"
      ],
      "metadata": {
        "colab": {
          "base_uri": "https://localhost:8080/"
        },
        "id": "DQoYvo-9kISu",
        "outputId": "b7236ab1-c10d-4607-bbe0-c9daf3738911"
      },
      "execution_count": null,
      "outputs": [
        {
          "output_type": "stream",
          "name": "stdout",
          "text": [
            "[0 2 3 4 5]\n",
            "[0 2 3 4 5]\n"
          ]
        }
      ]
    }
  ]
}